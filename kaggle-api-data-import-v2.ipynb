{
 "cells": [
  {
   "cell_type": "markdown",
   "metadata": {
    "application/vnd.databricks.v1+cell": {
     "cellMetadata": {},
     "inputWidgets": {},
     "nuid": "2c3f814f-db62-45c2-9a39-05802535dc35",
     "showTitle": false,
     "tableResultSettingsMap": {},
     "title": ""
    }
   },
   "source": [
    "# Libraries & variables"
   ]
  },
  {
   "cell_type": "code",
   "execution_count": 0,
   "metadata": {
    "application/vnd.databricks.v1+cell": {
     "cellMetadata": {
      "byteLimit": 2048000,
      "rowLimit": 10000
     },
     "inputWidgets": {},
     "nuid": "305b4be7-2a23-4fa8-a7c6-ce52d7d7947e",
     "showTitle": false,
     "tableResultSettingsMap": {},
     "title": ""
    }
   },
   "outputs": [],
   "source": [
    "%pip install kaggle"
   ]
  },
  {
   "cell_type": "code",
   "execution_count": 0,
   "metadata": {
    "application/vnd.databricks.v1+cell": {
     "cellMetadata": {
      "byteLimit": 2048000,
      "rowLimit": 10000
     },
     "inputWidgets": {},
     "nuid": "f7914600-3286-4d60-ac34-9116daf9bf94",
     "showTitle": false,
     "tableResultSettingsMap": {},
     "title": ""
    }
   },
   "outputs": [],
   "source": [
    "%restart_python"
   ]
  },
  {
   "cell_type": "code",
   "execution_count": 0,
   "metadata": {
    "application/vnd.databricks.v1+cell": {
     "cellMetadata": {
      "byteLimit": 2048000,
      "rowLimit": 10000
     },
     "inputWidgets": {},
     "nuid": "78b0ee21-33bd-4c49-abe7-f772a3fb789f",
     "showTitle": false,
     "tableResultSettingsMap": {},
     "title": ""
    }
   },
   "outputs": [],
   "source": [
    "\n",
    "import os\n",
    "from kaggle.api.kaggle_api_extended import KaggleApi\n",
    "from azure.storage.blob import BlobServiceClient\n",
    "from datetime import datetime\n",
    "\n",
    "# Set environment variables\n",
    "os.environ['KAGGLE_USERNAME'] = '<username>'\n",
    "os.environ['KAGGLE_KEY'] = '<kaggle_key_string>'\n",
    "\n",
    "api = KaggleApi()\n",
    "api.authenticate()"
   ]
  },
  {
   "cell_type": "code",
   "execution_count": 0,
   "metadata": {
    "application/vnd.databricks.v1+cell": {
     "cellMetadata": {
      "byteLimit": 2048000,
      "rowLimit": 10000
     },
     "inputWidgets": {},
     "nuid": "f27f4672-e1ef-4a8e-86ee-8e09c0f76f02",
     "showTitle": false,
     "tableResultSettingsMap": {},
     "title": ""
    }
   },
   "outputs": [
    {
     "name": "stdout",
     "output_type": "stream",
     "text": [
      "Dataset URL: https://www.kaggle.com/datasets/octopusteam/full-amazon-prime-dataset\n",
      "Dataset downloaded on: 2024-12-16 16:00:22.272319\n",
      "Dataset URL: https://www.kaggle.com/datasets/octopusteam/full-apple-tv-dataset\n",
      "Dataset downloaded on: 2024-12-16 16:00:23.671713\n",
      "Dataset URL: https://www.kaggle.com/datasets/octopusteam/full-hbo-max-dataset\n",
      "Dataset downloaded on: 2024-12-16 16:00:25.084455\n",
      "Dataset URL: https://www.kaggle.com/datasets/octopusteam/full-hulu-dataset\n",
      "Dataset downloaded on: 2024-12-16 16:00:26.284149\n",
      "Dataset URL: https://www.kaggle.com/datasets/octopusteam/full-netflix-dataset\n",
      "Dataset downloaded on: 2024-12-16 16:00:27.769512\n"
     ]
    }
   ],
   "source": [
    "# FUnction to download the latest version of the dataset\n",
    "\n",
    "def download_latest_version(dataset_name, local_path):\n",
    "    api.dataset_download_files(dataset_name, path=local_path, unzip=True, force=True)\n",
    "    current_date = datetime.utcnow()\n",
    "    print(f\"Dataset downloaded on: {current_date}\")\n",
    "\n",
    "download_latest_version('octopusteam/full-amazon-prime-dataset', '/dbfs/tmp/full-amazon-prime-dataset/')\n",
    "download_latest_version('octopusteam/full-apple-tv-dataset', '/dbfs/tmp/full-apple-tv-dataset/')\n",
    "download_latest_version('octopusteam/full-hbo-max-dataset', '/dbfs/tmp/full-hbo-max-dataset/')\n",
    "download_latest_version('octopusteam/full-hulu-dataset', '/dbfs/tmp/full-hulu-dataset/')\n",
    "download_latest_version('octopusteam/full-netflix-dataset', '/dbfs/tmp/full-netflix-dataset/')"
   ]
  },
  {
   "cell_type": "code",
   "execution_count": 0,
   "metadata": {
    "application/vnd.databricks.v1+cell": {
     "cellMetadata": {
      "byteLimit": 2048000,
      "rowLimit": 10000
     },
     "inputWidgets": {},
     "nuid": "2bbfb54b-6c44-46da-9401-d649e9c7a5b6",
     "showTitle": false,
     "tableResultSettingsMap": {},
     "title": ""
    }
   },
   "outputs": [
    {
     "name": "stdout",
     "output_type": "stream",
     "text": [
      "Dataset amazon_prime.csv uploaded to Azure Blob Storage on: 2024-12-16 16:00:33.509810\n",
      "Dataset apple_tv.csv uploaded to Azure Blob Storage on: 2024-12-16 16:00:33.954514\n",
      "Dataset hbo_max.csv uploaded to Azure Blob Storage on: 2024-12-16 16:00:34.288737\n",
      "Dataset hulu.csv uploaded to Azure Blob Storage on: 2024-12-16 16:00:34.625548\n",
      "Dataset netflix.csv uploaded to Azure Blob Storage on: 2024-12-16 16:00:35.048151\n"
     ]
    }
   ],
   "source": [
    "# Set up Azure Blob Storage client with a valid connection string\n",
    "connection_string = \"<connection_string>\"\n",
    "blob_service_client = BlobServiceClient.from_connection_string(connection_string)\n",
    "container_name = \"staging\"\n",
    "\n",
    "# Function to upload the renamed dataset to Azure Blob Storage\n",
    "def upload_to_azure_blob_storage(file_name, local_path, new_file_name):\n",
    "    # Rename the file\n",
    "    os.rename(file_name, local_path + new_file_name)\n",
    "    \n",
    "    blob_client = blob_service_client.get_blob_client(container=container_name, blob=new_file_name)\n",
    "\n",
    "    # Upload the renamed dataset to Azure Blob Storage\n",
    "    with open(local_path + new_file_name, \"rb\") as data:\n",
    "        blob_client.upload_blob(data, overwrite=True)\n",
    "    \n",
    "    current_date = datetime.utcnow()\n",
    "    print(f\"Dataset {new_file_name} uploaded to Azure Blob Storage on: {current_date}\")\n",
    "\n",
    "upload_to_azure_blob_storage(\"/dbfs/tmp/full-amazon-prime-dataset/data.csv\", \"/dbfs/tmp/full-amazon-prime-dataset/\", \"amazon_prime.csv\")\n",
    "upload_to_azure_blob_storage(\"/dbfs/tmp/full-apple-tv-dataset/data.csv\", \"/dbfs/tmp/full-apple-tv-dataset/\", \"apple_tv.csv\")\n",
    "upload_to_azure_blob_storage(\"/dbfs/tmp/full-hbo-max-dataset/data.csv\", \"/dbfs/tmp/full-hbo-max-dataset/\", \"hbo_max.csv\")\n",
    "upload_to_azure_blob_storage(\"/dbfs/tmp/full-hulu-dataset/data.csv\", \"/dbfs/tmp/full-hulu-dataset/\", \"hulu.csv\")\n",
    "upload_to_azure_blob_storage(\"/dbfs/tmp/full-netflix-dataset/data.csv\", \"/dbfs/tmp/full-netflix-dataset/\", \"netflix.csv\")"
   ]
  }
 ],
 "metadata": {
  "application/vnd.databricks.v1+notebook": {
   "computePreferences": null,
   "dashboards": [
    {
     "elements": [
      {
       "dashboardResultIndex": null,
       "elementNUID": "2c3f814f-db62-45c2-9a39-05802535dc35",
       "elementType": "command",
       "guid": "32ad1e7e-1cad-4015-a604-1f85aac567db",
       "options": null,
       "position": {
        "height": 2,
        "width": 12,
        "x": 0,
        "y": 0,
        "z": null
       },
       "resultIndex": null
      }
     ],
     "globalVars": {},
     "guid": "",
     "layoutOption": {
      "grid": true,
      "stack": true
     },
     "nuid": "5b47c7c6-e88c-4572-9853-805a45d0b540",
     "origId": 3805581137911017,
     "title": "Untitled",
     "version": "DashboardViewV1",
     "width": 1024
    }
   ],
   "environmentMetadata": {
    "base_environment": "",
    "client": "1"
   },
   "language": "python",
   "notebookMetadata": {
    "pythonIndentUnit": 4
   },
   "notebookName": "kaggle-api-data-import-v2",
   "widgets": {}
  },
  "language_info": {
   "name": "python"
  }
 },
 "nbformat": 4,
 "nbformat_minor": 0
}
