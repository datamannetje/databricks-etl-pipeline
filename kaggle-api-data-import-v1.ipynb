{
 "cells": [
  {
   "cell_type": "markdown",
   "metadata": {
    "application/vnd.databricks.v1+cell": {
     "cellMetadata": {},
     "inputWidgets": {},
     "nuid": "2c3f814f-db62-45c2-9a39-05802535dc35",
     "showTitle": false,
     "tableResultSettingsMap": {},
     "title": ""
    }
   },
   "source": [
    "# Libraries & variables"
   ]
  },
  {
   "cell_type": "code",
   "execution_count": 0,
   "metadata": {
    "application/vnd.databricks.v1+cell": {
     "cellMetadata": {
      "byteLimit": 2048000,
      "rowLimit": 10000
     },
     "inputWidgets": {},
     "nuid": "305b4be7-2a23-4fa8-a7c6-ce52d7d7947e",
     "showTitle": false,
     "tableResultSettingsMap": {},
     "title": ""
    }
   },
   "outputs": [],
   "source": [
    "%pip install kaggle"
   ]
  },
  {
   "cell_type": "code",
   "execution_count": 0,
   "metadata": {
    "application/vnd.databricks.v1+cell": {
     "cellMetadata": {
      "byteLimit": 2048000,
      "rowLimit": 10000
     },
     "inputWidgets": {},
     "nuid": "f7914600-3286-4d60-ac34-9116daf9bf94",
     "showTitle": false,
     "tableResultSettingsMap": {},
     "title": ""
    }
   },
   "outputs": [],
   "source": [
    "%restart_python"
   ]
  },
  {
   "cell_type": "code",
   "execution_count": 0,
   "metadata": {
    "application/vnd.databricks.v1+cell": {
     "cellMetadata": {
      "byteLimit": 2048000,
      "rowLimit": 10000
     },
     "inputWidgets": {},
     "nuid": "78b0ee21-33bd-4c49-abe7-f772a3fb789f",
     "showTitle": false,
     "tableResultSettingsMap": {},
     "title": ""
    }
   },
   "outputs": [],
   "source": [
    "\n",
    "import os\n",
    "from kaggle.api.kaggle_api_extended import KaggleApi\n",
    "from azure.storage.blob import BlobServiceClient\n",
    "from datetime import datetime\n",
    "\n",
    "# Set environment variables\n",
    "os.environ['KAGGLE_USERNAME'] = '<username>'\n",
    "os.environ['KAGGLE_KEY'] = '<kaggle_key_string>'\n",
    "\n",
    "api = KaggleApi()\n",
    "api.authenticate()"
   ]
  },
  {
   "cell_type": "code",
   "execution_count": 0,
   "metadata": {
    "application/vnd.databricks.v1+cell": {
     "cellMetadata": {
      "byteLimit": 2048000,
      "rowLimit": 10000
     },
     "inputWidgets": {},
     "nuid": "fbbc4aa8-3ab8-4999-8e1c-9fa9d08d3751",
     "showTitle": false,
     "tableResultSettingsMap": {},
     "title": ""
    }
   },
   "outputs": [
    {
     "name": "stdout",
     "output_type": "stream",
     "text": [
      "Dataset URL: https://www.kaggle.com/datasets/octopusteam/full-amazon-prime-dataset\n",
      "Path to dataset files: /dbfs/tmp/\n",
      "Dataset URL: https://www.kaggle.com/datasets/octopusteam/full-apple-tv-dataset\n",
      "Dataset URL: https://www.kaggle.com/datasets/octopusteam/full-hbo-max-dataset\n",
      "Dataset URL: https://www.kaggle.com/datasets/octopusteam/full-hulu-dataset\n",
      "Dataset URL: https://www.kaggle.com/datasets/octopusteam/full-netflix-dataset\n"
     ]
    }
   ],
   "source": [
    "# Download latest version\n",
    "amazon_dataset = 'octopusteam/full-amazon-prime-dataset'\n",
    "amazon_local_path = '/dbfs/tmp/full-amazon-prime-dataset/'\n",
    "api.dataset_download_files(amazon_dataset, path=amazon_local_path, unzip=True)\n",
    "\n",
    "apple_dataset = 'octopusteam/full-apple-tv-dataset'\n",
    "apple_local_path = '/dbfs/tmp/full-apple-tv-dataset/'\n",
    "api.dataset_download_files(apple_dataset, path=apple_local_path, unzip=True)\n",
    "\n",
    "hbo_dataset = 'octopusteam/full-hbo-max-dataset'\n",
    "hbo_local_path = '/dbfs/tmp/full-hbo-max-dataset/'\n",
    "api.dataset_download_files(hbo_dataset, path=hbo_local_path, unzip=True)\n",
    "\n",
    "hulu_dataset = 'octopusteam/full-hulu-dataset'\n",
    "hulu_local_path = '/dbfs/tmp/full-hulu-dataset/'\n",
    "api.dataset_download_files(hulu_dataset, path=hulu_local_path, unzip=True)\n",
    "\n",
    "netflix_dataset = 'octopusteam/full-netflix-dataset'\n",
    "netflix_local_path = '/dbfs/tmp/full-netflix-dataset/'\n",
    "api.dataset_download_files(netflix_dataset, path=netflix_local_path, unzip=True)\n"
   ]
  },
  {
   "cell_type": "code",
   "execution_count": 0,
   "metadata": {
    "application/vnd.databricks.v1+cell": {
     "cellMetadata": {
      "byteLimit": 2048000,
      "rowLimit": 10000
     },
     "inputWidgets": {},
     "nuid": "a475902c-87fd-4273-b910-3abb5f0f18ef",
     "showTitle": false,
     "tableResultSettingsMap": {},
     "title": ""
    }
   },
   "outputs": [
    {
     "name": "stdout",
     "output_type": "stream",
     "text": [
      "Dataset amazon_prime.csv uploaded to Azure Blob Storage\n",
      "Dataset apple_tv.csv uploaded to Azure Blob Storage\n",
      "Dataset hbo_max.csv uploaded to Azure Blob Storage\n",
      "Dataset hulu.csv uploaded to Azure Blob Storage\n",
      "Dataset netflix.csv uploaded to Azure Blob Storage\n"
     ]
    }
   ],
   "source": [
    "# Set up Azure Blob Storage client with a valid connection string\n",
    "connection_string = \"<connection_string>\"\n",
    "blob_service_client = BlobServiceClient.from_connection_string(connection_string)\n",
    "container_name = \"staging\"\n",
    "\n",
    "files = [\n",
    "    \"/dbfs/tmp/full-amazon-prime-dataset/data.csv\",\n",
    "    \"/dbfs/tmp/full-apple-tv-dataset/data.csv\",\n",
    "    \"/dbfs/tmp/full-hbo-max-dataset/data.csv\",\n",
    "    \"/dbfs/tmp/full-hulu-dataset/data.csv\",\n",
    "    \"/dbfs/tmp/full-netflix-dataset/data.csv\"\n",
    "]\n",
    "\n",
    "local_paths = [\n",
    "    \"/dbfs/tmp/full-amazon-prime-dataset/\",\n",
    "    \"/dbfs/tmp/full-apple-tv-dataset/\",\n",
    "    \"/dbfs/tmp/full-hbo-max-dataset/\",\n",
    "    \"/dbfs/tmp/full-hulu-dataset/\",\n",
    "    \"/dbfs/tmp/full-netflix-dataset/\"\n",
    "]\n",
    "\n",
    "# Define new file names\n",
    "new_file_names = [\n",
    "    \"amazon_prime.csv\",\n",
    "    \"apple_tv.csv\",\n",
    "    \"hbo_max.csv\",\n",
    "    \"hulu.csv\",\n",
    "    \"netflix.csv\"\n",
    "]\n",
    "\n",
    "for file, local_path, new_file in zip(files, local_paths, new_file_names):\n",
    "    # Rename the file\n",
    "    os.rename(file, local_path + new_file)\n",
    "    \n",
    "    blob_client = blob_service_client.get_blob_client(container=container_name, blob=new_file)\n",
    "\n",
    "    # Upload the renamed dataset to Azure Blob Storage\n",
    "    with open(local_path + new_file, \"rb\") as data:\n",
    "        blob_client.upload_blob(data, overwrite=True)\n",
    "    \n",
    "    current_date = datetime.utcnow()\n",
    "    print(f\"Dataset {new_file} uploaded to Azure Blob Storage on: {current_date}\")"
   ]
  }
 ],
 "metadata": {
  "application/vnd.databricks.v1+notebook": {
   "computePreferences": null,
   "dashboards": [],
   "environmentMetadata": {
    "base_environment": "",
    "client": "1"
   },
   "language": "python",
   "notebookMetadata": {
    "pythonIndentUnit": 4
   },
   "notebookName": "kaggle-api-data-import-v1",
   "widgets": {}
  },
  "language_info": {
   "name": "python"
  }
 },
 "nbformat": 4,
 "nbformat_minor": 0
}
